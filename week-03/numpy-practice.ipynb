{
 "metadata": {
  "name": ""
 },
 "nbformat": 3,
 "nbformat_minor": 0,
 "worksheets": [
  {
   "cells": [
    {
     "cell_type": "code",
     "collapsed": false,
     "input": [
      "import numpy as np"
     ],
     "language": "python",
     "metadata": {},
     "outputs": [],
     "prompt_number": 1
    },
    {
     "cell_type": "code",
     "collapsed": false,
     "input": [
      "def f1(x,y):\n",
      "    result = []\n",
      "    if len(x) != len(y):\n",
      "        raise ValueError(\"Vectors must be same length\")\n",
      "    for i, v in enumerate(x):\n",
      "        result.append(x[i] + y[i])\n",
      "    return result"
     ],
     "language": "python",
     "metadata": {},
     "outputs": [],
     "prompt_number": 1
    },
    {
     "cell_type": "code",
     "collapsed": false,
     "input": [
      "print f1(np.arange(10),np.arange(10))"
     ],
     "language": "python",
     "metadata": {},
     "outputs": [
      {
       "output_type": "stream",
       "stream": "stdout",
       "text": [
        "[0, 2, 4, 6, 8, 10, 12, 14, 16, 18]\n"
       ]
      }
     ],
     "prompt_number": 2
    },
    {
     "cell_type": "code",
     "collapsed": false,
     "input": [
      "def f1Vec(x,y):\n",
      "    if x.shape != y.shape:\n",
      "        raise ValueError(\"Vectors must be same length\") \n",
      "    return x + y\n",
      "        "
     ],
     "language": "python",
     "metadata": {},
     "outputs": [],
     "prompt_number": 3
    },
    {
     "cell_type": "code",
     "collapsed": false,
     "input": [
      "print f1Vec(np.arange(10).reshape(5,2),np.arange(10).reshape(5,2))"
     ],
     "language": "python",
     "metadata": {},
     "outputs": [
      {
       "output_type": "stream",
       "stream": "stdout",
       "text": [
        "[[ 0  2]\n",
        " [ 4  6]\n",
        " [ 8 10]\n",
        " [12 14]\n",
        " [16 18]]\n"
       ]
      }
     ],
     "prompt_number": 4
    },
    {
     "cell_type": "code",
     "collapsed": false,
     "input": [
      "def f2(a,x):\n",
      "    result = []\n",
      "    for i,v in enumerate(x):\n",
      "        result.append(a * v)\n",
      "    return result"
     ],
     "language": "python",
     "metadata": {},
     "outputs": [],
     "prompt_number": 10
    },
    {
     "cell_type": "code",
     "collapsed": false,
     "input": [
      "print f2(3,[0,1,2,3,4])"
     ],
     "language": "python",
     "metadata": {},
     "outputs": [
      {
       "output_type": "stream",
       "stream": "stdout",
       "text": [
        "[0, 3, 6, 9, 12]\n"
       ]
      }
     ],
     "prompt_number": 12
    },
    {
     "cell_type": "code",
     "collapsed": false,
     "input": [
      "def f2Vec(a,x):\n",
      "    return a * x"
     ],
     "language": "python",
     "metadata": {},
     "outputs": [],
     "prompt_number": 13
    },
    {
     "cell_type": "code",
     "collapsed": false,
     "input": [
      "print f2Vec(5,np.arange(3))"
     ],
     "language": "python",
     "metadata": {},
     "outputs": [
      {
       "output_type": "stream",
       "stream": "stdout",
       "text": [
        "[ 0  5 10]\n"
       ]
      }
     ],
     "prompt_number": 14
    },
    {
     "cell_type": "code",
     "collapsed": false,
     "input": [
      "def f3(x):\n",
      "    result = []\n",
      "    norm = 0.0\n",
      "    for v in x:\n",
      "        norm += v*v\n",
      "    norm = math.sqrt(norm)\n",
      "    for i,v in enumerate(x):\n",
      "        result.append( x[i]/norm )\n",
      "    return result"
     ],
     "language": "python",
     "metadata": {},
     "outputs": [],
     "prompt_number": 16
    },
    {
     "cell_type": "code",
     "collapsed": false,
     "input": [
      "print f3([0,1,2])"
     ],
     "language": "python",
     "metadata": {},
     "outputs": [
      {
       "output_type": "stream",
       "stream": "stdout",
       "text": [
        "[0.0, 0.4472135954999579, 0.8944271909999159]\n"
       ]
      }
     ],
     "prompt_number": 18
    },
    {
     "cell_type": "code",
     "collapsed": false,
     "input": [
      "def f3Vec(x):\n",
      "    squre = x * x\n",
      "    return x /math.sqrt(squre.sum())\n"
     ],
     "language": "python",
     "metadata": {},
     "outputs": [],
     "prompt_number": 1
    },
    {
     "cell_type": "code",
     "collapsed": false,
     "input": [
      "print f3Vec(np.ones(3,dtype=float64))"
     ],
     "language": "python",
     "metadata": {},
     "outputs": [
      {
       "output_type": "stream",
       "stream": "stdout",
       "text": [
        "[ 0.57735027  0.57735027  0.57735027]\n"
       ]
      }
     ],
     "prompt_number": 2
    },
    {
     "cell_type": "code",
     "collapsed": false,
     "input": [
      "def f4(x):\n",
      "    norm = 0.0\n",
      "    for v in x:\n",
      "        norm += v*v\n",
      "    norm = math.sqrt(norm)\n",
      "    return norm"
     ],
     "language": "python",
     "metadata": {},
     "outputs": [],
     "prompt_number": 26
    },
    {
     "cell_type": "code",
     "collapsed": false,
     "input": [
      "print f4([0,1,2])"
     ],
     "language": "python",
     "metadata": {},
     "outputs": [
      {
       "output_type": "stream",
       "stream": "stdout",
       "text": [
        "2.2360679775\n"
       ]
      }
     ],
     "prompt_number": 28
    },
    {
     "cell_type": "code",
     "collapsed": false,
     "input": [
      "def f4Vec(x):\n",
      "    return math.sqrt((x*x).sum())"
     ],
     "language": "python",
     "metadata": {},
     "outputs": [],
     "prompt_number": 29
    },
    {
     "cell_type": "code",
     "collapsed": false,
     "input": [
      "print f4Vec(np.arange(3,dtype=float64))"
     ],
     "language": "python",
     "metadata": {},
     "outputs": [
      {
       "output_type": "stream",
       "stream": "stdout",
       "text": [
        "2.2360679775\n"
       ]
      }
     ],
     "prompt_number": 31
    },
    {
     "cell_type": "code",
     "collapsed": false,
     "input": [
      "def f5(x):\n",
      "    sigm = lambda x: (1.0 / (1.0 + math.exp(-x)))\n",
      "    result = []\n",
      "    for v in x:\n",
      "        result.append(sigm(v))\n",
      "    return result"
     ],
     "language": "python",
     "metadata": {},
     "outputs": [],
     "prompt_number": 32
    },
    {
     "cell_type": "code",
     "collapsed": false,
     "input": [
      "print f5([0,1,2])"
     ],
     "language": "python",
     "metadata": {},
     "outputs": [
      {
       "output_type": "stream",
       "stream": "stdout",
       "text": [
        "[0.5, 0.7310585786300049, 0.8807970779778823]\n"
       ]
      }
     ],
     "prompt_number": 33
    },
    {
     "cell_type": "code",
     "collapsed": false,
     "input": [
      "def f5Vec(x):\n",
      "    sigm = lambda x: (1.0 / (1.0 + np.exp(-x)))\n",
      "    return sigm(x)"
     ],
     "language": "python",
     "metadata": {},
     "outputs": [],
     "prompt_number": 39
    },
    {
     "cell_type": "code",
     "collapsed": false,
     "input": [
      "print f5Vec(np.arange(3,dtype=float64))"
     ],
     "language": "python",
     "metadata": {},
     "outputs": [
      {
       "output_type": "stream",
       "stream": "stdout",
       "text": [
        "[ 0.5         0.73105858  0.88079708]\n"
       ]
      }
     ],
     "prompt_number": 40
    },
    {
     "cell_type": "code",
     "collapsed": false,
     "input": [
      "def f6(m, nrows, ncols):\n",
      "    for i in range(nrows):\n",
      "        for j in range(ncols):\n",
      "            if m[ncols * i + j] != m[ncols * j + i]:\n",
      "                return False\n",
      "    return True"
     ],
     "language": "python",
     "metadata": {},
     "outputs": [],
     "prompt_number": 12
    },
    {
     "cell_type": "code",
     "collapsed": false,
     "input": [
      "print f6([1,2,3,2,5,6,3,6,1],3,3)\n",
      "#print f6([1,2,3,4,5,6],2,3)"
     ],
     "language": "python",
     "metadata": {},
     "outputs": [
      {
       "output_type": "stream",
       "stream": "stdout",
       "text": [
        "True\n"
       ]
      }
     ],
     "prompt_number": 16
    },
    {
     "cell_type": "code",
     "collapsed": false,
     "input": [
      "def f6Vec(m):\n",
      "    return np.allclose(np.transpose(m),m)\n",
      "    \n",
      "    #return len(np.unique(m))==1\n",
      "    #return np.all(m==m[0])\n",
      "    #return np.allclose(m,m[0])"
     ],
     "language": "python",
     "metadata": {},
     "outputs": [],
     "prompt_number": 17
    },
    {
     "cell_type": "code",
     "collapsed": false,
     "input": [
      "print f6Vec(np.array([1,2,3,2,5,6,3,6,1]).reshape(3,3))"
     ],
     "language": "python",
     "metadata": {},
     "outputs": [
      {
       "output_type": "stream",
       "stream": "stdout",
       "text": [
        "True\n"
       ]
      }
     ],
     "prompt_number": 19
    },
    {
     "cell_type": "code",
     "collapsed": false,
     "input": [
      "def f7(x,y):\n",
      "    s = 0.0\n",
      "    if len(x) != len(y):\n",
      "        raise ValueError(\"lengths differ.\")\n",
      "    for i,v in enumerate(x):\n",
      "        s += x[i] * y[i]\n",
      "    return s"
     ],
     "language": "python",
     "metadata": {},
     "outputs": [],
     "prompt_number": 29
    },
    {
     "cell_type": "code",
     "collapsed": false,
     "input": [
      "print f7([0,1,2],[0,1,2])"
     ],
     "language": "python",
     "metadata": {},
     "outputs": [
      {
       "output_type": "stream",
       "stream": "stdout",
       "text": [
        "5.0\n"
       ]
      }
     ],
     "prompt_number": 30
    },
    {
     "cell_type": "code",
     "collapsed": false,
     "input": [
      "def f7Vec(x,y):\n",
      "    if x.shape != y.shape:\n",
      "        raise ValueError(\"Vectors must be same length\")\n",
      "    z = x * y\n",
      "    return z.sum()"
     ],
     "language": "python",
     "metadata": {},
     "outputs": [],
     "prompt_number": 31
    },
    {
     "cell_type": "code",
     "collapsed": false,
     "input": [
      "print f7Vec(np.arange(3,dtype=float64),np.arange(3,dtype=float64))"
     ],
     "language": "python",
     "metadata": {},
     "outputs": [
      {
       "output_type": "stream",
       "stream": "stdout",
       "text": [
        "5.0\n"
       ]
      }
     ],
     "prompt_number": 32
    },
    {
     "cell_type": "code",
     "collapsed": false,
     "input": [
      "def f8(m, x, nrows, ncols):\n",
      "    result = []\n",
      "    if len(x) != ncols:\n",
      "        raise ValueError(\"m and x have incompatible sizes.\")\n",
      "    for i, v in enumerate(x):\n",
      "        result.append(f7(m[i * ncols : (i+1)*ncols], x))\n",
      "    return result"
     ],
     "language": "python",
     "metadata": {},
     "outputs": [],
     "prompt_number": 33
    },
    {
     "cell_type": "code",
     "collapsed": false,
     "input": [
      "print f8([2,1,2,5,6,7,2,1,5],[1,2,3],3,3)"
     ],
     "language": "python",
     "metadata": {},
     "outputs": [
      {
       "output_type": "stream",
       "stream": "stdout",
       "text": [
        "[10.0, 38.0, 19.0]\n"
       ]
      }
     ],
     "prompt_number": 34
    },
    {
     "cell_type": "code",
     "collapsed": false,
     "input": [
      "def f8Vec(m, x):\n",
      "    if m.shape[1] != x.shape[0]:\n",
      "        raise ValueError(\"m and x have incompatible sizes.\")\n",
      "    return np.dot(m,x)"
     ],
     "language": "python",
     "metadata": {},
     "outputs": [],
     "prompt_number": 21
    },
    {
     "cell_type": "code",
     "collapsed": false,
     "input": [
      "print f8Vec(np.array([2,1,2,5,6,7,2,1,5]).reshape(3,3),np.array([1,2,3]))"
     ],
     "language": "python",
     "metadata": {},
     "outputs": [
      {
       "output_type": "stream",
       "stream": "stdout",
       "text": [
        "[10 38 19]\n"
       ]
      }
     ],
     "prompt_number": 22
    },
    {
     "cell_type": "code",
     "collapsed": false,
     "input": [
      "import random\n",
      "def f9(length):\n",
      "    result = []\n",
      "    if length <= 0:\n",
      "        raise ValueError(\"Need a positive argument.\")\n",
      "    for i in range(length):\n",
      "        result.append(random.gauss(0, 0.1))\n",
      "    return result"
     ],
     "language": "python",
     "metadata": {},
     "outputs": [],
     "prompt_number": 35
    },
    {
     "cell_type": "code",
     "collapsed": false,
     "input": [
      "print f9(3)"
     ],
     "language": "python",
     "metadata": {},
     "outputs": [
      {
       "output_type": "stream",
       "stream": "stdout",
       "text": [
        "[0.041027671406458, 0.06467605961394353, -0.04347000045616584]\n"
       ]
      }
     ],
     "prompt_number": 36
    },
    {
     "cell_type": "code",
     "collapsed": false,
     "input": [
      "import numpy.random as rnd\n",
      "def f9Vec(length):\n",
      "    if length <= 0:\n",
      "        raise ValueError(\"Need a positive argument.\")\n",
      "    x = rnd.normal(0.0, 0.1, length)\n",
      "    return x"
     ],
     "language": "python",
     "metadata": {},
     "outputs": [],
     "prompt_number": 37
    },
    {
     "cell_type": "code",
     "collapsed": false,
     "input": [
      "print f9Vec(3)"
     ],
     "language": "python",
     "metadata": {},
     "outputs": [
      {
       "output_type": "stream",
       "stream": "stdout",
       "text": [
        "[-0.02727142  0.18617835 -0.15221257]\n"
       ]
      }
     ],
     "prompt_number": 41
    },
    {
     "cell_type": "code",
     "collapsed": false,
     "input": [
      "def f10(x):\n",
      "    if len(x) == 0:\n",
      "        raise ValueError(\"need a nonempty x.\")\n",
      "    minval = x[0]\n",
      "    for v in x:\n",
      "        if v <= minval:\n",
      "            minval = v\n",
      "    return minval"
     ],
     "language": "python",
     "metadata": {},
     "outputs": [],
     "prompt_number": 42
    },
    {
     "cell_type": "code",
     "collapsed": false,
     "input": [
      "print f10([0,1,2,3])"
     ],
     "language": "python",
     "metadata": {},
     "outputs": [
      {
       "output_type": "stream",
       "stream": "stdout",
       "text": [
        "0\n"
       ]
      }
     ],
     "prompt_number": 43
    },
    {
     "cell_type": "code",
     "collapsed": false,
     "input": [
      "def f10Vec(x):\n",
      "    if x.size == 0:\n",
      "        raise ValueError(\"need a nonempty x.\")\n",
      "    return x.min()"
     ],
     "language": "python",
     "metadata": {},
     "outputs": [],
     "prompt_number": 44
    },
    {
     "cell_type": "code",
     "collapsed": false,
     "input": [
      "x = rnd.randint(2,10,size=10)\n",
      "print x\n",
      "print f10Vec(x)\n",
      "#print f10Vec(np.array([]))"
     ],
     "language": "python",
     "metadata": {},
     "outputs": [
      {
       "output_type": "stream",
       "stream": "stdout",
       "text": [
        "[3 6 6 9 7 5 5 2 2 8]\n",
        "2\n"
       ]
      }
     ],
     "prompt_number": 46
    },
    {
     "cell_type": "code",
     "collapsed": false,
     "input": [
      "def f11(x):\n",
      "    if len(x) == 0:\n",
      "        raise ValueError(\"need nonempty x.\")\n",
      "    maxval = x[0]\n",
      "    for v in x:\n",
      "        if v >= maxval:\n",
      "            maxval = v\n",
      "    return maxval"
     ],
     "language": "python",
     "metadata": {},
     "outputs": [],
     "prompt_number": 47
    },
    {
     "cell_type": "code",
     "collapsed": false,
     "input": [
      "print f11([1,2,3,4,5])"
     ],
     "language": "python",
     "metadata": {},
     "outputs": [
      {
       "output_type": "stream",
       "stream": "stdout",
       "text": [
        "5\n"
       ]
      }
     ],
     "prompt_number": 48
    },
    {
     "cell_type": "code",
     "collapsed": false,
     "input": [
      "def f11Vec(x):\n",
      "    if x.size == 0:\n",
      "        raise ValueError(\"need a nonempty x.\")\n",
      "    return x.max()"
     ],
     "language": "python",
     "metadata": {},
     "outputs": [],
     "prompt_number": 49
    },
    {
     "cell_type": "code",
     "collapsed": false,
     "input": [
      "x = np.array([3,5,2,1,4,6])\n",
      "print x\n",
      "print f11Vec(x)\n",
      "#print f11Vec(np.array([]))\n"
     ],
     "language": "python",
     "metadata": {},
     "outputs": [
      {
       "output_type": "stream",
       "stream": "stdout",
       "text": [
        "[3 5 2 1 4 6]\n",
        "6\n"
       ]
      }
     ],
     "prompt_number": 51
    },
    {
     "cell_type": "code",
     "collapsed": false,
     "input": [],
     "language": "python",
     "metadata": {},
     "outputs": []
    }
   ],
   "metadata": {}
  }
 ]
}